{
 "cells": [
  {
   "cell_type": "code",
   "id": "initial_id",
   "metadata": {
    "collapsed": true,
    "ExecuteTime": {
     "end_time": "2025-09-21T13:28:51.444858Z",
     "start_time": "2025-09-21T13:28:51.433662Z"
    }
   },
   "source": [
    "from bs4 import BeautifulStoneSoup\n",
    "from transformers import AutoTokenizer\n",
    "\n",
    "# 读取文件并去除空格\n",
    "with open('../../data/raw/course_introduce.txt', 'r', encoding='utf-8') as file:\n",
    "    content = file.read()\n",
    "\n",
    "# 去除所有空格\n",
    "content_no_spaces = content.replace(' ', '')\n",
    "\n",
    "# 写入新文件\n",
    "with open('../../data/raw/course_introduce.txt', 'w', encoding='utf-8') as file:\n",
    "    file.write(content_no_spaces)"
   ],
   "outputs": [],
   "execution_count": 5
  },
  {
   "metadata": {
    "ExecuteTime": {
     "end_time": "2025-09-22T07:17:21.088692Z",
     "start_time": "2025-09-22T07:17:19.893883Z"
    }
   },
   "cell_type": "code",
   "source": [
    "from transformers import AutoTokenizer\n",
    "tokenizer = AutoTokenizer.from_pretrained('bert-base-chinese')\n",
    "tokenizer('J')"
   ],
   "id": "6cf7c76d52a4b7d8",
   "outputs": [
    {
     "data": {
      "text/plain": [
       "{'input_ids': [101, 100, 102], 'token_type_ids': [0, 0, 0], 'attention_mask': [1, 1, 1]}"
      ]
     },
     "execution_count": 20,
     "metadata": {},
     "output_type": "execute_result"
    }
   ],
   "execution_count": 20
  },
  {
   "metadata": {
    "ExecuteTime": {
     "end_time": "2025-09-22T07:17:22.863478Z",
     "start_time": "2025-09-22T07:17:22.855857Z"
    }
   },
   "cell_type": "code",
   "source": "tokenizer.decode(100)",
   "id": "842d3b318c8840c4",
   "outputs": [
    {
     "data": {
      "text/plain": [
       "'[UNK]'"
      ]
     },
     "execution_count": 21,
     "metadata": {},
     "output_type": "execute_result"
    }
   ],
   "execution_count": 21
  },
  {
   "metadata": {
    "ExecuteTime": {
     "end_time": "2025-09-22T07:15:33.273129Z",
     "start_time": "2025-09-22T07:15:32.327252Z"
    }
   },
   "cell_type": "code",
   "source": [
    "from transformers import AutoTokenizer\n",
    "tokenizer = AutoTokenizer.from_pretrained('bert-base-chinese')\n",
    "tokenizer('j')"
   ],
   "id": "4c2389af21808735",
   "outputs": [
    {
     "data": {
      "text/plain": [
       "{'input_ids': [101, 152, 102], 'token_type_ids': [0, 0, 0], 'attention_mask': [1, 1, 1]}"
      ]
     },
     "execution_count": 18,
     "metadata": {},
     "output_type": "execute_result"
    }
   ],
   "execution_count": 18
  },
  {
   "metadata": {
    "ExecuteTime": {
     "end_time": "2025-09-22T06:22:54.865955Z",
     "start_time": "2025-09-22T06:22:54.859301Z"
    }
   },
   "cell_type": "code",
   "source": [
    "text = \"系统讲解 JavaWeb 开发技术栈，涵盖Servlet、JSP、Filter、Listener、Tomcat服务器等核心技术。\"\n",
    "text_no_space = \"\".join( text.split() )\n",
    "print(text_no_space)"
   ],
   "id": "548090b5823bb33e",
   "outputs": [
    {
     "name": "stdout",
     "output_type": "stream",
     "text": [
      "系统讲解JavaWeb开发技术栈，涵盖Servlet、JSP、Filter、Listener、Tomcat服务器等核心技术。\n"
     ]
    }
   ],
   "execution_count": 14
  },
  {
   "metadata": {
    "ExecuteTime": {
     "end_time": "2025-09-22T06:41:34.342674Z",
     "start_time": "2025-09-22T06:41:33.778059Z"
    }
   },
   "cell_type": "code",
   "source": [
    "from bs4 import BeautifulSoup\n",
    "\n",
    "\n",
    "def html_content_parse(html_like_text_str):\n",
    "    soup = BeautifulSoup( html_like_text_str, 'html.parser' )\n",
    "    # get_text: 提取纯文本内容，第一段第二段\n",
    "    return soup.get_text( separator='', strip=True )\n",
    "\n",
    "texts3 = \"\"\"\"<p><strong>以下关于方法调用的代码的执行结果是</strong></p><p>&nbsp;</p><p>&nbsp;public class Test {</p><p>&nbsp;&nbsp;&nbsp;public static void main(String args[]) {</p><p>&nbsp;&nbsp;&nbsp;&nbsp;&nbsp;&nbsp;&nbsp;int i = 99;</p><p>&nbsp;&nbsp;&nbsp;&nbsp;&nbsp;&nbsp;&nbsp;mb_operate(i);</p><p>&nbsp;&nbsp;&nbsp;&nbsp;&nbsp;&nbsp;&nbsp;System.out.print(i + 100);</p><p>&nbsp;&nbsp;&nbsp;}</p><p>&nbsp;&nbsp;&nbsp;static int mb_operate(int i) {</p><p>&nbsp;&nbsp;&nbsp;&nbsp;&nbsp;&nbsp;&nbsp;return&nbsp;i + 100;</p><p>&nbsp;&nbsp;&nbsp;}</p><p>}</p>'\"\"\"\n",
    "\n",
    "result = html_content_parse( html_like_text_str=texts3 )\n",
    "print(result)"
   ],
   "id": "ba360eec5378bb8b",
   "outputs": [
    {
     "name": "stdout",
     "output_type": "stream",
     "text": [
      "\"以下关于方法调用的代码的执行结果是public class Test {public static void main(String args[]) {int i = 99;mb_operate(i);System.out.print(i + 100);}static int mb_operate(int i) {return i + 100;}}'\n"
     ]
    }
   ],
   "execution_count": 15
  },
  {
   "metadata": {},
   "cell_type": "code",
   "outputs": [],
   "execution_count": null,
   "source": "",
   "id": "56a64588e9e41d02"
  }
 ],
 "metadata": {
  "kernelspec": {
   "display_name": "Python 3",
   "language": "python",
   "name": "python3"
  },
  "language_info": {
   "codemirror_mode": {
    "name": "ipython",
    "version": 2
   },
   "file_extension": ".py",
   "mimetype": "text/x-python",
   "name": "python",
   "nbconvert_exporter": "python",
   "pygments_lexer": "ipython2",
   "version": "2.7.6"
  }
 },
 "nbformat": 4,
 "nbformat_minor": 5
}
