{
 "cells": [
  {
   "cell_type": "code",
   "id": "initial_id",
   "metadata": {
    "collapsed": true,
    "ExecuteTime": {
     "end_time": "2025-09-19T07:48:55.318874Z",
     "start_time": "2025-09-19T07:48:50.532608Z"
    }
   },
   "source": [
    "from langchain_deepseek import ChatDeepSeek\n",
    "from langchain_neo4j import GraphCypherQAChain\n",
    "from configuration import config\n",
    "from langchain_neo4j import Neo4jGraph\n",
    "\n",
    "# 创建Neo4jGraph对象, 用于langchain连接Neo4j图数据库\n",
    "graph = Neo4jGraph(url=config.NEO4J_CONFIG[\"uri\"],\n",
    "                   username=config.NEO4J_CONFIG['auth'][0],\n",
    "                   password=config.NEO4J_CONFIG['auth'][1])\n",
    "\n",
    "# 创建一个ChatDeepSeek对象，用于调用DeepSeek模型进行对话\n",
    "llm = ChatDeepSeek(model=\"deepseek-chat\", temperature=0, api_key=config.API_KEY)\n",
    "# 创建一个GraphCypherQAChain对象，用于将DeepSeek模型结果转换为Cypher查询\n",
    "# GraphyCypherQAChain的工作流程：\n",
    "# 1. 接收用户的自然语言问题\n",
    "# 2. 利用LLM将问题转换为Cypher查询语句\n",
    "# 3. 在图数据库中执行Cypher查询，并返回结果\n",
    "# 4. 返回查询结果给用户\n",
    "chain = GraphCypherQAChain.from_llm(\n",
    "    graph=graph, llm=llm, verbose=True, allow_dangerous_requests=True\n",
    ")"
   ],
   "outputs": [],
   "execution_count": 3
  },
  {
   "metadata": {
    "ExecuteTime": {
     "end_time": "2025-09-19T08:14:57.514902Z",
     "start_time": "2025-09-19T08:14:46.495145Z"
    }
   },
   "cell_type": "code",
   "source": [
    "response = chain.invoke({\"query\": \"嵌入式物联网学科下有哪些课程\"})\n",
    "response"
   ],
   "id": "f64130c35d643b31",
   "outputs": [
    {
     "name": "stdout",
     "output_type": "stream",
     "text": [
      "\n",
      "\n",
      "\u001B[1m> Entering new GraphCypherQAChain chain...\u001B[0m\n",
      "Generated Cypher:\n",
      "\u001B[32;1m\u001B[1;3mMATCH (s:subject)-[:belong]->(c:category {name: '嵌入式物联网'}) RETURN s.name;\u001B[0m\n",
      "Full Context:\n",
      "\u001B[32;1m\u001B[1;3m[]\u001B[0m\n",
      "\n",
      "\u001B[1m> Finished chain.\u001B[0m\n"
     ]
    },
    {
     "data": {
      "text/plain": [
       "{'query': '嵌入式物联网学科下有哪些课程', 'result': '抱歉，我暂时没有找到嵌入式物联网学科下的具体课程信息。'}"
      ]
     },
     "execution_count": 11,
     "metadata": {},
     "output_type": "execute_result"
    }
   ],
   "execution_count": 11
  },
  {
   "metadata": {},
   "cell_type": "code",
   "outputs": [],
   "execution_count": null,
   "source": "",
   "id": "c83229b7b5e015fb"
  }
 ],
 "metadata": {
  "kernelspec": {
   "display_name": "Python 3",
   "language": "python",
   "name": "python3"
  },
  "language_info": {
   "codemirror_mode": {
    "name": "ipython",
    "version": 2
   },
   "file_extension": ".py",
   "mimetype": "text/x-python",
   "name": "python",
   "nbconvert_exporter": "python",
   "pygments_lexer": "ipython2",
   "version": "2.7.6"
  }
 },
 "nbformat": 4,
 "nbformat_minor": 5
}
