{
 "cells": [
  {
   "cell_type": "code",
   "id": "initial_id",
   "metadata": {
    "collapsed": true
   },
   "source": [
    "from black.brackets import is_split_after_delimiter\n",
    "from transformers import AutoTokenizer\n",
    "\n",
    "# text中有空格，标签无法对齐，应该去掉空格\n",
    "# 特殊符号也去掉，用白名单的方式\n",
    "{\n",
    "  \"text\": \"<p>在进行 Java 代码编译和运行的过程中，哪种格式的文件可以被编译成字节码文件（）<\\/p>\",\n",
    "  \"id\": 3194,\n",
    "  \"label\": [\n",
    "    {\n",
    "      \"start\": 7,\n",
    "      \"end\": 12,\n",
    "      \"text\": \"Java \",\n",
    "      \"labels\": [\n",
    "        \"knowledge\"\n",
    "      ]\n",
    "    },\n",
    "    {\n",
    "      \"start\": 37,\n",
    "      \"end\": 40,\n",
    "      \"text\": \"字节码\",\n",
    "      \"labels\": [\n",
    "        \"knowledge\"\n",
    "      ]\n",
    "    }\n",
    "  ],\n",
    "  \"annotator\": 1,\n",
    "  \"annotation_id\": 64,\n",
    "  \"created_at\": \"2025-09-21T09:16:55.623303Z\",\n",
    "  \"updated_at\": \"2025-09-21T09:16:55.623303Z\",\n",
    "  \"lead_time\": 8.797\n",
    "}\n"
   ],
   "outputs": [],
   "execution_count": null
  },
  {
   "metadata": {},
   "cell_type": "code",
   "source": [
    "# 全部提取内容: 在进行 Java 代码编译和运行的过程中 哪种格式的文件可以被编译成字节码文件\n",
    "# 在进行代码编译和运行的过程中哪种格式的文件可以被编译成字节码文件\n",
    "import re\n",
    "\n",
    "text = '<p>在进行 Java 代码编译和运行的过程中，哪种格式的文件可以被编译成字节码文件（）</p>'\n",
    "\n",
    "# 提取汉字\n",
    "chinese = re.findall(r'[\\u4e00-\\u9fa5]+', text)\n",
    "# 提取英文单词\n",
    "english = re.findall(r'[a-zA-Z]+', text)\n",
    "# 提取数字\n",
    "digits = re.findall(r'\\d+', text)\n",
    "\n",
    "print(\"汉字:\", ''.join(chinese))\n",
    "print(\"英文:\", ' '.join(english))\n",
    "print(\"数字:\", ''.join(digits) if digits else '无')"
   ],
   "id": "4afe7edba292b285",
   "outputs": [],
   "execution_count": null
  },
  {
   "metadata": {},
   "cell_type": "code",
   "source": [
    "# text = \"运行文件 文件\"\n",
    "# chinese = re.findall(r'[\\u4e00-\\u9fa5]', text)\n",
    "# print(''.join(chinese))"
   ],
   "id": "330310a03648d076",
   "outputs": [],
   "execution_count": null
  },
  {
   "metadata": {},
   "cell_type": "code",
   "source": [
    "from transformers import AutoTokenizer\n",
    "tokenizer = AutoTokenizer.from_pretrained('bert-base-chinese')\n",
    "inputs = tokenizer(text)\n",
    "print(inputs)"
   ],
   "id": "4ac3e6d693604969",
   "outputs": [],
   "execution_count": null
  },
  {
   "metadata": {},
   "cell_type": "code",
   "source": [
    "import os\n",
    "os.environ['HF_ENDPOINT'] = 'https://hf-mirror.com'\n",
    "tokenizer = AutoTokenizer.from_pretrained('Babelscape/wikineural-multilingual-ner')\n",
    "text = '<p>在进行 Java 代码编译和运行的过程中，哪种格式的文件可以被编译成字节码文件（）</p>'\n",
    "encoded = tokenizer(text)\n",
    "print(encoded)"
   ],
   "id": "b7ed7fdcf0a89a9",
   "outputs": [],
   "execution_count": null
  },
  {
   "metadata": {},
   "cell_type": "code",
   "source": [
    "a = tokenizer.decode(encoded.input_ids)\n",
    "print(a)\n",
    "print(len(a))"
   ],
   "id": "406428afebbd75a8",
   "outputs": [],
   "execution_count": null
  },
  {
   "metadata": {},
   "cell_type": "code",
   "source": [
    "print( len(text) )\n",
    "print(len(encoded.input_ids))"
   ],
   "id": "4efbfd0945a0a3f3",
   "outputs": [],
   "execution_count": null
  },
  {
   "metadata": {},
   "cell_type": "code",
   "source": "print(len(inputs.input_ids))",
   "id": "30976d2194a1548b",
   "outputs": [],
   "execution_count": null
  },
  {
   "metadata": {},
   "cell_type": "code",
   "source": "print(len(text))",
   "id": "c33289be42de1365",
   "outputs": [],
   "execution_count": null
  },
  {
   "metadata": {},
   "cell_type": "code",
   "source": [
    "a = tokenizer.decode(inputs.input_ids)\n",
    "print(a)"
   ],
   "id": "bdc0eab932ef641e",
   "outputs": [],
   "execution_count": null
  },
  {
   "metadata": {},
   "cell_type": "code",
   "source": "tokenizer.encode('Java')",
   "id": "29c450eb141954fe",
   "outputs": [],
   "execution_count": null
  },
  {
   "metadata": {},
   "cell_type": "code",
   "source": [
    "print(tokenizer.decode(101))\n",
    "print(tokenizer.decode(102))\n",
    "print(tokenizer.decode(100))"
   ],
   "id": "826e86a61dace48",
   "outputs": [],
   "execution_count": null
  },
  {
   "metadata": {},
   "cell_type": "code",
   "source": "tokenizer('&')",
   "id": "8a7befa6c3c752d0",
   "outputs": [],
   "execution_count": null
  },
  {
   "metadata": {},
   "cell_type": "code",
   "source": "text",
   "id": "1eabd9419d45b12d",
   "outputs": [],
   "execution_count": null
  },
  {
   "metadata": {},
   "cell_type": "code",
   "source": [
    "tokens = list(text)\n",
    "print(tokens)\n",
    "# 首先，空格肯定不能要"
   ],
   "id": "d2417677696d93e",
   "outputs": [],
   "execution_count": null
  },
  {
   "metadata": {},
   "cell_type": "code",
   "source": [
    "tokenizer = AutoTokenizer.from_pretrained( 'bert-base-chinese' )\n",
    "tokenizer('hello java')"
   ],
   "id": "bb95e6fe1e449eed",
   "outputs": [],
   "execution_count": null
  },
  {
   "metadata": {},
   "cell_type": "code",
   "source": "tokenizer('h e l l o j a v a')",
   "id": "816b4190dd4b5473",
   "outputs": [],
   "execution_count": null
  },
  {
   "metadata": {},
   "cell_type": "code",
   "source": [
    "# 找到tokenizer的unk编码\n",
    "from transformers import AutoTokenizer\n",
    "\n",
    "tokenizer = AutoTokenizer.from_pretrained('bert-base-chinese')\n",
    "unk_token_id = tokenizer.unk_token_id\n",
    "print(f\"UNK token ID: {unk_token_id}\")"
   ],
   "id": "bbfb872502c945eb",
   "outputs": [],
   "execution_count": null
  },
  {
   "metadata": {},
   "cell_type": "code",
   "source": "tokenizer.decode(100)",
   "id": "27f405fb3c19481d",
   "outputs": [],
   "execution_count": null
  },
  {
   "metadata": {},
   "cell_type": "code",
   "source": "tokenizer.encode('[UNK]')",
   "id": "17e465268d705c9d",
   "outputs": [],
   "execution_count": null
  },
  {
   "metadata": {},
   "cell_type": "code",
   "source": "tokenizer.encode('')",
   "id": "68189deab93ab7c1",
   "outputs": [],
   "execution_count": null
  },
  {
   "metadata": {
    "ExecuteTime": {
     "end_time": "2025-09-21T12:47:05.952939Z",
     "start_time": "2025-09-21T12:47:05.946334Z"
    }
   },
   "cell_type": "code",
   "source": "text",
   "id": "2ccc68b2d5aec728",
   "outputs": [
    {
     "data": {
      "text/plain": [
       "'<p>在进行 Java 代码编译和运行的过程中，哪种格式的文件可以被编译成字节码文件（）</p>'"
      ]
     },
     "execution_count": 85,
     "metadata": {},
     "output_type": "execute_result"
    }
   ],
   "execution_count": 85
  },
  {
   "metadata": {},
   "cell_type": "code",
   "source": "list( text )",
   "id": "b6d4c8e382f2a6a3",
   "outputs": [],
   "execution_count": null
  },
  {
   "metadata": {},
   "cell_type": "code",
   "source": [
    "encoded = tokenizer( list(text) , truncation=True, is_split_into_words=True)\n",
    "print(encoded)"
   ],
   "id": "b6b5aed38e55ec29",
   "outputs": [],
   "execution_count": null
  },
  {
   "metadata": {
    "ExecuteTime": {
     "end_time": "2025-09-21T12:47:01.924007Z",
     "start_time": "2025-09-21T12:47:01.916287Z"
    }
   },
   "cell_type": "code",
   "source": "tokenizer.decode( encoded.input_ids )",
   "id": "4e401cfd60476390",
   "outputs": [
    {
     "data": {
      "text/plain": [
       "'[CLS] < p > 在 进 行 [UNK] a v a 代 码 编 译 和 运 行 的 过 程 中 ， 哪 种 格 式 的 文 件 可 以 被 编 译 成 字 节 码 文 件 （ ） < / p > [SEP]'"
      ]
     },
     "execution_count": 84,
     "metadata": {},
     "output_type": "execute_result"
    }
   ],
   "execution_count": 84
  },
  {
   "metadata": {
    "ExecuteTime": {
     "end_time": "2025-09-21T12:47:26.703673Z",
     "start_time": "2025-09-21T12:47:26.695318Z"
    }
   },
   "cell_type": "code",
   "source": "tokenizer('J')",
   "id": "bf1a8d85b078d37b",
   "outputs": [
    {
     "data": {
      "text/plain": [
       "{'input_ids': [101, 100, 102], 'token_type_ids': [0, 0, 0], 'attention_mask': [1, 1, 1]}"
      ]
     },
     "execution_count": 87,
     "metadata": {},
     "output_type": "execute_result"
    }
   ],
   "execution_count": 87
  },
  {
   "metadata": {
    "ExecuteTime": {
     "end_time": "2025-09-21T13:32:22.485122Z",
     "start_time": "2025-09-21T13:32:22.477697Z"
    }
   },
   "cell_type": "code",
   "source": "tokenizer('、')",
   "id": "cc9a273d1eb1e3cd",
   "outputs": [
    {
     "data": {
      "text/plain": [
       "{'input_ids': [101, 510, 102], 'token_type_ids': [0, 0, 0], 'attention_mask': [1, 1, 1]}"
      ]
     },
     "execution_count": 96,
     "metadata": {},
     "output_type": "execute_result"
    }
   ],
   "execution_count": 96
  },
  {
   "metadata": {},
   "cell_type": "code",
   "outputs": [],
   "execution_count": null,
   "source": "",
   "id": "23caa043b6aba9b3"
  }
 ],
 "metadata": {
  "kernelspec": {
   "display_name": "Python 3",
   "language": "python",
   "name": "python3"
  },
  "language_info": {
   "codemirror_mode": {
    "name": "ipython",
    "version": 2
   },
   "file_extension": ".py",
   "mimetype": "text/x-python",
   "name": "python",
   "nbconvert_exporter": "python",
   "pygments_lexer": "ipython2",
   "version": "2.7.6"
  }
 },
 "nbformat": 4,
 "nbformat_minor": 5
}
